{
  "nbformat": 4,
  "nbformat_minor": 0,
  "metadata": {
    "colab": {
      "provenance": []
    },
    "kernelspec": {
      "name": "python3",
      "display_name": "Python 3"
    },
    "language_info": {
      "name": "python"
    }
  },
  "cells": [
    {
      "cell_type": "code",
      "execution_count": null,
      "metadata": {
        "id": "RrpXvGAybi1J"
      },
      "outputs": [],
      "source": [
        "# Read the answers of given questions."
      ]
    },
    {
      "cell_type": "code",
      "source": [
        "# Q1) What are the five key concepts of Object-Oriented Programming (OOP)?\n",
        "# Ans.\n",
        "# Five Key Concepts of Object-Oriented Programming (OOP):\n",
        "# Encapsulation – Bundling data and methods into a single unit (class) and restricting direct access to some data.\n",
        "# Abstraction – Hiding implementation details and exposing only the necessary parts of an object.\n",
        "# Inheritance – Allowing one class to inherit properties and methods from another, promoting code reuse.\n",
        "# Polymorphism – Enabling a single function or method to work in different ways depending on the object.\n",
        "# Message Passing – Objects communicate with each other by calling methods and exchanging data."
      ],
      "metadata": {
        "id": "CAZp02QBbtUv"
      },
      "execution_count": null,
      "outputs": []
    },
    {
      "cell_type": "code",
      "source": [
        "# Q2) Write a Python class for a `Car` with attributes for `make`, `model`, and `year`. Include a method to display the car's information.\n",
        "# Ans.\n",
        "class Car:\n",
        "    def __init__(self, make, model, year):\n",
        "        self.make = make\n",
        "        self.model = model\n",
        "        self.year = year\n",
        "\n",
        "    def display_info(self):\n",
        "        print(f\"Car Info: {self.year} {self.make} {self.model}\")\n",
        "\n",
        "# Example usage:\n",
        "my_car = Car(\"Toyota\", \"Corolla\", 2022)\n",
        "my_car.display_info()"
      ],
      "metadata": {
        "colab": {
          "base_uri": "https://localhost:8080/"
        },
        "id": "gtANOYvbb9eA",
        "outputId": "46fb695a-c434-48e5-f3e0-73ad958c646a"
      },
      "execution_count": null,
      "outputs": [
        {
          "output_type": "stream",
          "name": "stdout",
          "text": [
            "Car Info: 2022 Toyota Corolla\n"
          ]
        }
      ]
    },
    {
      "cell_type": "code",
      "source": [
        "# Q3) Explain the difference between instance methods and class methods. Provide an example of each.\n",
        "# Ans.\n",
        "# Python provides two main types of methods inside a class:\n",
        "\n",
        "# Instance Methods:\n",
        "\n",
        "# Operate on an instance of the class.\n",
        "# Can access and modify instance attributes.\n",
        "# Require self as the first parameter.\n",
        "# Class Methods:\n",
        "\n",
        "# Operate on the class itself rather than individual instances.\n",
        "# Can modify class-level attributes but not instance-specific attributes.\n",
        "# Require @classmethod decorator and cls as the first parameter.\n",
        "\n",
        "class Car:\n",
        "    brand = \"Generic Brand\"\n",
        "\n",
        "    def __init__(self, model, year):\n",
        "        self.model = model\n",
        "        self.year = year\n",
        "\n",
        "\n",
        "    def display_info(self):\n",
        "        print(f\"Car Model: {self.model}, Year: {self.year}\")\n",
        "\n",
        "\n",
        "    @classmethod\n",
        "    def change_brand(cls, new_brand):\n",
        "        cls.brand = new_brand\n",
        "\n",
        "\n",
        "car1 = Car(\"Corolla\", 2022)\n",
        "\n",
        "car1.display_info()\n",
        "\n",
        "\n",
        "Car.change_brand(\"Toyota\")\n",
        "print(Car.brand)"
      ],
      "metadata": {
        "colab": {
          "base_uri": "https://localhost:8080/"
        },
        "id": "22Evi-g1cYgC",
        "outputId": "09bf1d13-cb2a-4963-b2a9-5ed79130cba7"
      },
      "execution_count": null,
      "outputs": [
        {
          "output_type": "stream",
          "name": "stdout",
          "text": [
            "Car Model: Corolla, Year: 2022\n",
            "Toyota\n"
          ]
        }
      ]
    },
    {
      "cell_type": "code",
      "source": [
        "# Q4) How does Python implement method overloading? Give an example.\n",
        "# Ans.\n",
        "# Python does not support traditional method overloading like Java or C++, where multiple methods can have the same name but different parameters. Instead, Python handles method overloading using default\n",
        "# arguments or variable-length arguments (*args and **kwargs).\n",
        "\n",
        "class MathOperations:\n",
        "    def add(self, a, b=0, c=0):\n",
        "        return a + b + c\n",
        "\n",
        "math_op = MathOperations()\n",
        "\n",
        "print(math_op.add(5))\n",
        "print(math_op.add(5, 10))\n",
        "print(math_op.add(5, 10, 15))"
      ],
      "metadata": {
        "colab": {
          "base_uri": "https://localhost:8080/"
        },
        "id": "ibeY6gkXdMPL",
        "outputId": "a9e23d40-c742-4ddb-c1de-31cde274528b"
      },
      "execution_count": null,
      "outputs": [
        {
          "output_type": "stream",
          "name": "stdout",
          "text": [
            "5\n",
            "15\n",
            "30\n"
          ]
        }
      ]
    },
    {
      "cell_type": "code",
      "source": [
        "# Q5) What are the three types of access modifiers in Python? How are they denoted?\n",
        "# Ans.\n",
        "# The three types of access modifiers in Python are:\n",
        "\n",
        "# Public – Accessible from anywhere.\n",
        "# Denoted by: No underscore (e.g., variable)\n",
        "\n",
        "# Protected – Intended for internal use; accessible in the class and subclasses.\n",
        "# Denoted by: Single underscore prefix (e.g., _variable)\n",
        "\n",
        "# Private – Accessible only within the class.\n",
        "# Denoted by: Double underscore prefix (e.g., __variable)\n",
        "\n",
        "# Public Specifier -\n",
        "class MyClass:\n",
        "    def __init__(self):\n",
        "        self.name = \"Public\"\n",
        "\n",
        "obj = MyClass()\n",
        "print(obj.name)  # Accessible\n",
        "\n",
        "# Protected Specifier -\n",
        "class MyClass:\n",
        "    def __init__(self):\n",
        "        self._age = 25\n",
        "\n",
        "obj = MyClass()\n",
        "print(obj._age)  # Accessible, but discouraged\n",
        "\n",
        "# Private Specifier -\n",
        "class MyClass:\n",
        "    def __init__(self):\n",
        "        self.__salary = 5000\n",
        "\n",
        "obj = MyClass()\n",
        "# print(obj.__salary)  # Error\n",
        "print(obj._MyClass__salary)  # Accessible using name mangling"
      ],
      "metadata": {
        "id": "1Oe3czDGeTEM",
        "colab": {
          "base_uri": "https://localhost:8080/"
        },
        "outputId": "f01333a9-f119-48ac-8a2d-7f2b8e37ffbf"
      },
      "execution_count": null,
      "outputs": [
        {
          "output_type": "stream",
          "name": "stdout",
          "text": [
            "Public\n",
            "25\n",
            "5000\n"
          ]
        }
      ]
    },
    {
      "cell_type": "code",
      "source": [
        "# Q6) Describe the five types of inheritance in Python. Provide a simple example of multiple inheritance.\n",
        "# Ans.\n",
        "# Python supports five main types of inheritance, which allow classes to reuse and extend code from other classes. Here's a quick rundown:\n",
        "\n",
        "# 1. Single Inheritance\n",
        "# A child class inherits from one parent class.\n",
        "\n",
        "class Parent:\n",
        "    def speak(self):\n",
        "        print(\"I am the parent.\")\n",
        "\n",
        "class Child(Parent):\n",
        "    pass\n",
        "\n",
        "obj = Child()\n",
        "obj.speak()  # Output: I am the parent.\n",
        "# 2. Multiple Inheritance\n",
        "# A child class inherits from more than one parent class.\n",
        "\n",
        "\n",
        "class Father:\n",
        "    def skills(self):\n",
        "        print(\"Programming\")\n",
        "\n",
        "class Mother:\n",
        "    def hobbies(self):\n",
        "        print(\"Painting\")\n",
        "\n",
        "class Child(Father, Mother):\n",
        "    pass\n",
        "\n",
        "c = Child()\n",
        "c.skills()    # Output: Programming\n",
        "c.hobbies()   # Output: Painting\n",
        "# 3. Multilevel Inheritance\n",
        "# A class inherits from a child class, which itself inherits from another class.\n",
        "\n",
        "class Grandparent:\n",
        "    def say_hi(self):\n",
        "        print(\"Hi from grandparent.\")\n",
        "\n",
        "class Parent(Grandparent):\n",
        "    pass\n",
        "\n",
        "class Child(Parent):\n",
        "    pass\n",
        "\n",
        "c = Child()\n",
        "c.say_hi()  # Output: Hi from grandparent.\n",
        "# 4. Hierarchical Inheritance\n",
        "# Multiple child classes inherit from the same parent class.\n",
        "\n",
        "class Parent:\n",
        "    def greet(self):\n",
        "        print(\"Hello from parent.\")\n",
        "\n",
        "class Child1(Parent):\n",
        "    pass\n",
        "\n",
        "class Child2(Parent):\n",
        "    pass\n",
        "\n",
        "c1 = Child1()\n",
        "c2 = Child2()\n",
        "c1.greet()  # Output: Hello from parent.\n",
        "c2.greet()  # Output: Hello from parent.\n",
        "# 5. Hybrid Inheritance\n",
        "# A combination of two or more types of inheritance. This can include multiple and multilevel inheritance together.\n",
        "\n",
        "class A:\n",
        "    def a(self):\n",
        "        print(\"Class A\")\n",
        "\n",
        "class B(A):\n",
        "    def b(self):\n",
        "        print(\"Class B\")\n",
        "\n",
        "class C(A):\n",
        "    def c(self):\n",
        "        print(\"Class C\")\n",
        "\n",
        "class D(B, C):\n",
        "    def d(self):\n",
        "        print(\"Class D\")\n",
        "\n",
        "obj = D()\n",
        "obj.a()  # Inherited from A through B and C\n",
        "obj.b()\n",
        "obj.c()\n",
        "obj.d()"
      ],
      "metadata": {
        "colab": {
          "base_uri": "https://localhost:8080/"
        },
        "id": "Dg5yTVcSTEbY",
        "outputId": "77391b2d-1dbc-46ef-e345-7fb22593878e"
      },
      "execution_count": null,
      "outputs": [
        {
          "output_type": "stream",
          "name": "stdout",
          "text": [
            "I am the parent.\n",
            "Programming\n",
            "Painting\n",
            "Hi from grandparent.\n",
            "Hello from parent.\n",
            "Hello from parent.\n",
            "Class A\n",
            "Class B\n",
            "Class C\n",
            "Class D\n"
          ]
        }
      ]
    },
    {
      "cell_type": "code",
      "source": [
        "# Q7) What is the Method Resolution Order (MRO) in Python? How can you retrieve it programmatically?\n",
        "# Ans.\n",
        "# What is MRO?\n",
        "# When you call a method or access an attribute, Python searches in a specific order.\n",
        "\n",
        "# MRO determines which class's method is invoked first when multiple base classes define methods with the same name.\n",
        "\n",
        "# Python uses the C3 linearization algorithm (also known as C3 superclass linearization) to compute the MRO.\n",
        "\n",
        "# How to retrieve MRO programmatically:\n",
        "# You can use:\n",
        "\n",
        "# ClassName.__mro__ → Returns a tuple of classes in MRO order.\n",
        "\n",
        "# ClassName.mro() → Returns a list of classes in MRO order."
      ],
      "metadata": {
        "id": "Lcv-je2lcivm"
      },
      "execution_count": null,
      "outputs": []
    },
    {
      "cell_type": "code",
      "source": [
        "# Q8) Create an abstract base class `Shape` with an abstract method `area()`. Then create two subclasses `Circle` and `Rectangle` that implement the `area()` method.\n",
        "# Ans.\n",
        "from abc import ABC, abstractmethod\n",
        "import math\n",
        "\n",
        "# Abstract base class\n",
        "class Shape(ABC):\n",
        "\n",
        "    @abstractmethod\n",
        "    def area(self):\n",
        "        pass\n",
        "\n",
        "# Circle subclass\n",
        "class Circle(Shape):\n",
        "    def __init__(self, radius):\n",
        "        self.radius = radius\n",
        "\n",
        "    def area(self):\n",
        "        return math.pi * self.radius ** 2\n",
        "\n",
        "# Rectangle subclass\n",
        "class Rectangle(Shape):\n",
        "    def __init__(self, width, height):\n",
        "        self.width = width\n",
        "        self.height = height\n",
        "\n",
        "    def area(self):\n",
        "        return self.width * self.height\n",
        "\n",
        "# Usage\n",
        "circle = Circle(5)\n",
        "rectangle = Rectangle(4, 6)\n",
        "\n",
        "print(f\"Circle Area: {circle.area():.2f}\")      # Output: Circle Area: 78.54\n",
        "print(f\"Rectangle Area: {rectangle.area()}\")    # Output: Rectangle Area: 24"
      ],
      "metadata": {
        "colab": {
          "base_uri": "https://localhost:8080/"
        },
        "id": "hu_OCQ8af3Ti",
        "outputId": "345bf50a-b996-406a-9107-a3bca22791c8"
      },
      "execution_count": null,
      "outputs": [
        {
          "output_type": "stream",
          "name": "stdout",
          "text": [
            "Circle Area: 78.54\n",
            "Rectangle Area: 24\n"
          ]
        }
      ]
    },
    {
      "cell_type": "code",
      "source": [
        "# Q9) Demonstrate polymorphism by creating a function that can work with different shape objects to calculate and print their areas.\n",
        "# Ans.\n",
        "from abc import ABC, abstractmethod\n",
        "import math\n",
        "\n",
        "# Abstract base class\n",
        "class Shape(ABC):\n",
        "    @abstractmethod\n",
        "    def area(self):\n",
        "        pass\n",
        "\n",
        "# Circle subclass\n",
        "class Circle(Shape):\n",
        "    def __init__(self, radius):\n",
        "        self.radius = radius\n",
        "\n",
        "    def area(self):\n",
        "        return math.pi * self.radius ** 2\n",
        "\n",
        "# Rectangle subclass\n",
        "class Rectangle(Shape):\n",
        "    def __init__(self, width, height):\n",
        "        self.width = width\n",
        "        self.height = height\n",
        "\n",
        "    def area(self):\n",
        "        return self.width * self.height\n",
        "\n",
        "# Function demonstrating polymorphism\n",
        "def print_area(shape: Shape):\n",
        "    print(f\"The area is: {shape.area():.2f}\")\n",
        "\n",
        "# Create different shape objects\n",
        "shapes = [\n",
        "    Circle(3),\n",
        "    Rectangle(4, 5),\n",
        "    Circle(7),\n",
        "    Rectangle(2, 10)\n",
        "]\n",
        "\n",
        "# Use the same function for all shapes\n",
        "for s in shapes:\n",
        "    print_area(s)"
      ],
      "metadata": {
        "colab": {
          "base_uri": "https://localhost:8080/"
        },
        "id": "xsmTEIi6gYY1",
        "outputId": "46df1fd2-4af1-4f75-f358-109c5d606858"
      },
      "execution_count": null,
      "outputs": [
        {
          "output_type": "stream",
          "name": "stdout",
          "text": [
            "The area is: 28.27\n",
            "The area is: 20.00\n",
            "The area is: 153.94\n",
            "The area is: 20.00\n"
          ]
        }
      ]
    },
    {
      "cell_type": "code",
      "source": [
        "# Q10) Implement encapsulation in a `BankAccount` class with private attributes for `balance` and `account_number`. Include methods for deposit, withdrawal, and balance inquiry.\n",
        "# Ans.\n",
        "\n",
        "class BankAccount:\n",
        "    def __init__(self, account_number, initial_balance=0):\n",
        "        self.__account_number = account_number\n",
        "        self.__balance = initial_balance\n",
        "\n",
        "    def deposit(self, amount):\n",
        "        if amount > 0:\n",
        "            self.__balance += amount\n",
        "            print(f\"Deposited ${amount}. New balance: ${self.__balance}\")\n",
        "        else:\n",
        "            print(\"Deposit amount must be positive.\")\n",
        "\n",
        "    def withdraw(self, amount):\n",
        "        if 0 < amount <= self.__balance:\n",
        "            self.__balance -= amount\n",
        "            print(f\"Withdrew ${amount}. New balance: ${self.__balance}\")\n",
        "        else:\n",
        "            print(\"Insufficient funds or invalid amount.\")\n",
        "\n",
        "    def get_balance(self):\n",
        "        return self.__balance\n",
        "\n",
        "    def get_account_number(self):\n",
        "        return self.__account_number\n",
        "\n",
        "    account = BankAccount(\"123456789\", 1000)\n",
        "\n",
        "    account.deposit(500)\n",
        "    account.withdraw(200)\n",
        "    print(account.get_balance())\n",
        "    print(account.get_account_number())"
      ],
      "metadata": {
        "colab": {
          "base_uri": "https://localhost:8080/"
        },
        "id": "hTQWcHNMjwqK",
        "outputId": "08e6abbf-aa6f-4cd3-9423-05f598cd7966"
      },
      "execution_count": null,
      "outputs": [
        {
          "output_type": "stream",
          "name": "stdout",
          "text": [
            "Deposited $500. New balance: $1500\n",
            "Withdrew $200. New balance: $1300\n",
            "1300\n",
            "123456789\n"
          ]
        }
      ]
    },
    {
      "cell_type": "code",
      "source": [
        "# Q11) Write a class that overrides the `__str__` and `__add__` magic methods. What will these methods allow you to do?\n",
        "# Ans.\n",
        "class MyNumber:\n",
        "    def __init__(self, value):\n",
        "        self.value = value\n",
        "\n",
        "    def __str__(self):\n",
        "        return f\"MyNumber({self.value})\"\n",
        "\n",
        "    def __add__(self, other):\n",
        "        if isinstance(other, MyNumber):\n",
        "            return MyNumber(self.value + other.value)\n",
        "        return NotImplemented\n",
        "a = MyNumber(10)\n",
        "print(a)\n",
        "\n",
        "a = MyNumber(10)\n",
        "b = MyNumber(5)\n",
        "c = a + b\n",
        "print(c)"
      ],
      "metadata": {
        "id": "HeESx1RKskXx",
        "colab": {
          "base_uri": "https://localhost:8080/"
        },
        "outputId": "df45d590-7bc5-48fb-ab2a-0ada3d5329ae"
      },
      "execution_count": 3,
      "outputs": [
        {
          "output_type": "stream",
          "name": "stdout",
          "text": [
            "MyNumber(10)\n",
            "MyNumber(15)\n"
          ]
        }
      ]
    },
    {
      "cell_type": "code",
      "source": [
        "# Q12) Create a decorator that measures and prints the execution time of a function.\n",
        "# Ans.\n",
        "import time\n",
        "\n",
        "def measure_time(func):\n",
        "    def wrapper(*args, **kwargs):\n",
        "        start = time.time()\n",
        "        result = func(*args, **kwargs)\n",
        "        end = time.time()\n",
        "        print(f\"Execution time of '{func.__name__}': {end - start:.4f} seconds\")\n",
        "        return result\n",
        "    return wrapper\n",
        "@measure_time\n",
        "def some_heavy_task():\n",
        "    time.sleep(1.5)\n",
        "    return \"Finished\"\n",
        "\n",
        "output = some_heavy_task()\n",
        "print(output)"
      ],
      "metadata": {
        "colab": {
          "base_uri": "https://localhost:8080/"
        },
        "id": "rvilOm0rrTU5",
        "outputId": "e38b559a-0507-4ddd-eeb2-123c856ec5f9"
      },
      "execution_count": 5,
      "outputs": [
        {
          "output_type": "stream",
          "name": "stdout",
          "text": [
            "Execution time of 'some_heavy_task': 1.5002 seconds\n",
            "Finished\n"
          ]
        }
      ]
    },
    {
      "cell_type": "code",
      "source": [
        "# Q13) Explain the concept of the Diamond Problem in multiple inheritance. How does Python resolve it?\n",
        "# Ans.\n",
        "# The Diamond Problem (in multiple inheritance)\n",
        "# The Diamond Problem occurs in object-oriented programming when a class inherits from two classes that both inherit from a common superclass.\n",
        "\n",
        "# How Python Resolves It\n",
        "# Python uses something called the Method Resolution Order (MRO), specifically C3 linearization, to resolve this.\n",
        "\n",
        "# MRO: Method Resolution Order\n",
        "# Python creates a linear order of classes to search for methods and attributes, ensuring:\n",
        "\n",
        "# Consistent and predictable method lookup.\n",
        "\n",
        "# Each class is only searched once.\n",
        "\n",
        "# Derived classes override base classes."
      ],
      "metadata": {
        "id": "IdI-bUidtpxo"
      },
      "execution_count": null,
      "outputs": []
    },
    {
      "cell_type": "code",
      "source": [
        "# Q14) Write a class method that keeps track of the number of instances created from a class.\n",
        "# Ans.\n",
        "class MyClass:\n",
        "    instance_count = 0  # Class variable to track instances\n",
        "\n",
        "    def __init__(self):\n",
        "        MyClass.instance_count += 1\n",
        "\n",
        "    @classmethod\n",
        "    def get_instance_count(cls):\n",
        "        return cls.instance_count\n",
        "a = MyClass()\n",
        "b = MyClass()\n",
        "c = MyClass()\n",
        "\n",
        "print(MyClass.get_instance_count())"
      ],
      "metadata": {
        "colab": {
          "base_uri": "https://localhost:8080/"
        },
        "id": "ALfVciG7uiKQ",
        "outputId": "8f2274f7-0198-4c55-cdfa-1111dee83331"
      },
      "execution_count": 6,
      "outputs": [
        {
          "output_type": "stream",
          "name": "stdout",
          "text": [
            "3\n"
          ]
        }
      ]
    },
    {
      "cell_type": "code",
      "source": [
        "# Q15) Implement a static method in a class that checks if a given year is a leap year.\n",
        "# Ans.\n",
        "class DateUtils:\n",
        "    @staticmethod\n",
        "    def is_leap_year(year):\n",
        "        return (year % 4 == 0 and year % 100 != 0) or (year % 400 == 0)\n",
        "print(DateUtils.is_leap_year(2024))\n",
        "print(DateUtils.is_leap_year(1900))"
      ],
      "metadata": {
        "colab": {
          "base_uri": "https://localhost:8080/"
        },
        "id": "wjwdYwISu3MJ",
        "outputId": "3aa2c985-09a0-4716-9e83-5a290178d622"
      },
      "execution_count": 7,
      "outputs": [
        {
          "output_type": "stream",
          "name": "stdout",
          "text": [
            "True\n",
            "False\n"
          ]
        }
      ]
    },
    {
      "cell_type": "code",
      "source": [],
      "metadata": {
        "id": "vq5aEZsJvQ7w"
      },
      "execution_count": null,
      "outputs": []
    }
  ]
}